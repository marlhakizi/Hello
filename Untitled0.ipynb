{
  "nbformat": 4,
  "nbformat_minor": 0,
  "metadata": {
    "colab": {
      "name": "Untitled0.ipynb",
      "provenance": []
    },
    "kernelspec": {
      "name": "python3",
      "display_name": "Python 3"
    },
    "language_info": {
      "name": "python"
    }
  },
  "cells": [
    {
      "cell_type": "code",
      "metadata": {
        "colab": {
          "base_uri": "https://localhost:8080/"
        },
        "id": "3qf5Gn-Jf1Od",
        "outputId": "ad21548d-fe44-4525-e230-06206ed557da"
      },
      "source": [
        "print(\"hello world\")"
      ],
      "execution_count": 1,
      "outputs": [
        {
          "output_type": "stream",
          "text": [
            "hello world\n"
          ],
          "name": "stdout"
        }
      ]
    },
    {
      "cell_type": "markdown",
      "metadata": {
        "id": "3Em098qWgvfO"
      },
      "source": [
        "## Names of the week\n",
        "The first **two** days of the week are:\n",
        "1. Monday\n",
        "2. Tuesday\n",
        "\n",
        "Here is a even [link from the wikipedia page](https://en.wikipedia.org/wiki/Names_of_the_days_of_the_week) for more information\n",
        "\n"
      ]
    }
  ]
}